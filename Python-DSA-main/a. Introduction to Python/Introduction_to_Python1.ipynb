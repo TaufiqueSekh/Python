{
  "cells": [
    {
      "cell_type": "markdown",
      "metadata": {
        "id": "WPPS38T8weZ0"
      },
      "source": [
        "## Introduction to Python"
      ]
    },
    {
      "cell_type": "markdown",
      "metadata": {
        "id": "a75OEVA7weZ2"
      },
      "source": [
        "* ### **Programming Language**\n",
        "\n",
        "Programming Language is a computer language which is used to write a computer program in order to give instructions to our computer.\n",
        "\n",
        "##### **Types of Programmming Language**\n",
        "\n",
        "| Type       | Description                                                                 | Examples              |\n",
        "|------------|-----------------------------------------------------------------------------|----------------------|\n",
        "| High-Level | Closest to human languages, easy to read and write, abstracts hardware details. | Python, Java, Ruby  |\n",
        "| Mid-Level  | Combines elements of high-level and low-level languages, closer to hardware. | C, C++              |\n",
        "| Low-Level  | Directly interacts with hardware, difficult to read and write, machine dependent. | Assembly, Machine Language |"
      ]
    },
    {
      "cell_type": "markdown",
      "metadata": {
        "id": "51auiohyweZ2"
      },
      "source": [
        "- ### **Language Processors**\n",
        "\n",
        "There are generally three main types of language processors in programming:\n",
        "\n",
        "1. Compiler\n",
        "2. Interpreter\n",
        "3. Assempler\n",
        "\n",
        "| Aspect       | Compiler                                             | Interpreter                                       | Assembler                                      |\n",
        "|-------------|------------------------------------------------------|--------------------------------------------------|-----------------------------------------------|\n",
        "| Definition  | Translates the entire source code into machine code at once. | Translates the source code line by line into machine code. | Converts assembly language (symbolic code) to machine code. |\n",
        "| Execution   | Produces an executable file (e.g., exe, out).       | Executes code line by line during runtime.      | Produces machine code directly from assembly instructions. |\n",
        "| Output      | Generates an output file.                           | No output file; executes directly.              | Produces machine code (binary instructions) for the processor. |\n",
        "| Speed       | Faster execution after compilation.                 | Slower execution due to line-by-line translation. | Fast machine code output, but depends on assembly efficiency. |\n",
        "| Error Detection | Detects all errors after compilation.            | Shows errors line by line during execution.     | Detects errors in assembly instructions during the assembly process. |\n",
        "| Example Languages | C, C++, Java (before execution)               | Python, JavaScript, Ruby                        | Assembly language (e.g., X86 Assembly) |\n",
        "| Level of Language | High-level (e.g., C, C++)                    | High-level (e.g., Python, Ruby)                 | Low-level (e.g., Assembly Language) |"
      ]
    },
    {
      "cell_type": "markdown",
      "metadata": {
        "id": "KCagXSLIweZ2"
      },
      "source": [
        "- ## **Python**\n",
        "\n",
        "- Python is a High-Level programming language, which makes use of an Interpreter.\n",
        "- It was created by Guido van Rossum in 1991.\n",
        "- Python is famous for its readability because of its simple syntax similar to English language. which makes it easy and fast to code and increases developer productivity."
      ]
    },
    {
      "cell_type": "markdown",
      "metadata": {
        "id": "reXZjiS7weZ3"
      },
      "source": [
        "- ### **Working of Python**\n",
        "\n",
        "Source Code → Interpreter → Byte Code (Closer to ML → CPython VM) → ML (Binary Code)\n",
        "\n",
        "![image.png](attachment:image.png)"
      ]
    },
    {
      "cell_type": "markdown",
      "metadata": {
        "id": "PRPJmbjRweZ3"
      },
      "source": [
        "- ### **Use of Python**\n",
        "\n",
        "| Category                     | Use                                                             |\n",
        "|------------------------------|----------------------------------------------------------------|\n",
        "| Web Development              | Building web applications with Django, Flask                  |\n",
        "| Data Science and Analytics   | Analyzing and visualizing data with Pandas, NumPy, Matplotlib |\n",
        "| Machine Learning & AI        | Creating models with TensorFlow, PyTorch, Scikit-learn        |\n",
        "| Automation and Scripting     | Automating tasks, system administration, and file manipulations |\n",
        "| Scientific Computing         | Scientific calculations and simulations with SciPy, SymPy     |\n",
        "| Game Development             | Creating games with Pygame and other frameworks              |\n",
        "| Software Development         | Developing desktop applications and rapid prototyping        |\n",
        "| Networking                   | Building network applications with socket and Twisted libraries |\n",
        "| Cybersecurity                | Penetration testing, security automation, and vulnerability analysis |\n",
        "| Finance and Trading          | Financial modeling, algorithmic trading with QuantLib, Pandas |\n"
      ]
    }
  ],
  "metadata": {
    "language_info": {
      "name": "python"
    },
    "colab": {
      "provenance": []
    }
  },
  "nbformat": 4,
  "nbformat_minor": 0
}